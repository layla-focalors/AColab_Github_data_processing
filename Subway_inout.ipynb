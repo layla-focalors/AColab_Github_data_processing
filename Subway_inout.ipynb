{
 "cells": [
  {
   "cell_type": "code",
   "execution_count": null,
   "metadata": {},
   "outputs": [],
   "source": [
    "# 위도와 경도를 포함한 지하철 승하차 분석하기\n",
    "# 데이터\n",
    "# kaggle - 서울 지하철 정보\n",
    "# folium - 위치 분석 시스템"
   ]
  }
 ],
 "metadata": {
  "kernelspec": {
   "display_name": "Python 3",
   "language": "python",
   "name": "python3"
  },
  "language_info": {
   "name": "python",
   "version": "3.10.8"
  }
 },
 "nbformat": 4,
 "nbformat_minor": 2
}
